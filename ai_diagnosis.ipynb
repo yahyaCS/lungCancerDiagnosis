{
 "cells": [
  {
   "cell_type": "code",
   "execution_count": 26,
   "id": "2a5ae66d-14e8-4466-bf13-0c7381eaf2a3",
   "metadata": {},
   "outputs": [],
   "source": [
    "import tensorflow as tf\n",
    "from tensorflow.keras.models import Sequential\n",
    "from tensorflow.keras.layers import Conv2D, MaxPooling2D, Flatten, Dense, Dropout\n",
    "\n"
   ]
  },
  {
   "cell_type": "code",
   "execution_count": 39,
   "id": "6be29b22-6708-4bf8-b7b7-a106b090d36b",
   "metadata": {},
   "outputs": [],
   "source": [
    "import os\n",
    "import cv2\n",
    "import numpy as np\n",
    "from sklearn.model_selection import train_test_split\n",
    "\n",
    "image_height, image_width = 224, 224\n",
    "\n",
    "def preprocess_images(data_dir):\n",
    "    images = []\n",
    "    labels = []\n",
    "\n",
    "    for label in os.listdir(data_dir):\n",
    "        if label == '.DS_Store':\n",
    "            continue  \n",
    "        label_path = os.path.join(data_dir, label)\n",
    "        for image_file in os.listdir(label_path):\n",
    "            if image_file == '.DS_Store':\n",
    "                continue  \n",
    "            image_path = os.path.join(label_path, image_file)\n",
    "            image = cv2.imread(image_path)\n",
    "            image = cv2.resize(image, (image_height, image_width))\n",
    "            image = image.astype('float32') / 255.0  \n",
    "            images.append(image)\n",
    "            labels.append(label)  \n",
    "\n",
    "    return images, labels\n",
    "\n",
    "import os\n",
    "\n",
    "notebook_dir = os.path.dirname(os.path.abspath('__file__'))\n",
    "\n",
    "data_dir = os.path.join(notebook_dir, '..', 'data', 'lung_xray_dataset')\n",
    "images, labels = preprocess_images(data_dir)\n",
    "\n",
    "label_to_index = {'healthy': 0, 'cancer': 1}\n",
    "labels = [label_to_index[label] for label in labels]\n",
    "\n",
    "train_images, val_images, train_labels, val_labels = train_test_split(\n",
    "    images, labels, test_size=0.2, random_state=42\n",
    ")\n"
   ]
  },
  {
   "cell_type": "code",
   "execution_count": 40,
   "id": "36bec823-4c58-4228-8973-a8646c781827",
   "metadata": {},
   "outputs": [],
   "source": [
    "model = Sequential([\n",
    "    Conv2D(32, (3, 3), activation='relu', input_shape=(image_height, image_width, 3)),\n",
    "    MaxPooling2D(2, 2),\n",
    "    Conv2D(64, (3, 3), activation='relu'),\n",
    "    MaxPooling2D(2, 2),\n",
    "    Conv2D(128, (3, 3), activation='relu'),\n",
    "    MaxPooling2D(2, 2),\n",
    "    Flatten(),\n",
    "    Dense(512, activation='relu'),\n",
    "    Dropout(0.5),\n",
    "    Dense(1, activation='sigmoid')  \n",
    "])\n"
   ]
  },
  {
   "cell_type": "code",
   "execution_count": 41,
   "id": "69fc4b41-fd24-42a2-b751-64d51006b8d1",
   "metadata": {},
   "outputs": [],
   "source": [
    "model.compile(optimizer='adam', loss='binary_crossentropy', metrics=['accuracy'])\n"
   ]
  },
  {
   "cell_type": "code",
   "execution_count": 12,
   "id": "45d046f4-b773-4e50-9f5a-6fcbc4cf49dc",
   "metadata": {},
   "outputs": [],
   "source": [
    "batch_size = 32"
   ]
  },
  {
   "cell_type": "code",
   "execution_count": 42,
   "id": "92aaed64-4724-4919-bb25-178b620a6a0e",
   "metadata": {},
   "outputs": [
    {
     "name": "stdout",
     "output_type": "stream",
     "text": [
      "Found 561 images belonging to 2 classes.\n"
     ]
    }
   ],
   "source": [
    "from keras.preprocessing.image import ImageDataGenerator\n",
    "\n",
    "train_datagen = ImageDataGenerator(\n",
    "    rescale=1.0 / 255,  \n",
    "    rotation_range=20,  \n",
    "    width_shift_range=0.2,  \n",
    "    height_shift_range=0.2,  \n",
    "    shear_range=0.2,  \n",
    "    zoom_range=0.2,  \n",
    "    horizontal_flip=True,  \n",
    "    fill_mode='nearest'  \n",
    ")\n",
    "\n",
    "image_height = 224\n",
    "image_width = 224\n",
    "batch_size = 32\n",
    "train_data_dir = '/Users/my/Desktop/mdp/data/lung_xray_dataset/train'\n",
    "\n",
    "train_generator = train_datagen.flow_from_directory(\n",
    "    train_data_dir,\n",
    "    target_size=(image_height, image_width),\n",
    "    batch_size=batch_size,\n",
    "    class_mode='binary'\n",
    ")\n",
    "\n",
    "total_train = train_generator.n\n",
    "\n"
   ]
  },
  {
   "cell_type": "code",
   "execution_count": 43,
   "id": "46bb71f0-7e90-4fac-a216-86a4160c6b55",
   "metadata": {},
   "outputs": [
    {
     "name": "stdout",
     "output_type": "stream",
     "text": [
      "Found 48 images belonging to 2 classes.\n"
     ]
    }
   ],
   "source": [
    "val_datagen = ImageDataGenerator(rescale=1.0 / 255)\n",
    "val_data_dir = '/Users/my/Desktop/mdp/data/lung_xray_dataset/val'\n",
    "\n",
    "\n",
    "val_generator = val_datagen.flow_from_directory(\n",
    "    val_data_dir,\n",
    "    target_size=(image_height, image_width),  \n",
    "    batch_size=batch_size,\n",
    "    class_mode='binary'\n",
    ")\n",
    "\n",
    "total_val = val_generator.n\n"
   ]
  },
  {
   "cell_type": "code",
   "execution_count": 44,
   "id": "f415b741-041a-4ff6-8354-329688d58e26",
   "metadata": {},
   "outputs": [
    {
     "name": "stdout",
     "output_type": "stream",
     "text": [
      "Epoch 1/10\n",
      "17/17 [==============================] - 76s 4s/step - loss: 0.3147 - accuracy: 0.9452 - val_loss: 2.6709 - val_accuracy: 0.4062\n",
      "Epoch 2/10\n",
      "17/17 [==============================] - 47s 3s/step - loss: 0.1262 - accuracy: 0.9641 - val_loss: 2.8923 - val_accuracy: 0.4062\n",
      "Epoch 3/10\n",
      "17/17 [==============================] - 50s 3s/step - loss: 0.1200 - accuracy: 0.9622 - val_loss: 3.8644 - val_accuracy: 0.4688\n",
      "Epoch 4/10\n",
      "17/17 [==============================] - 63s 4s/step - loss: 0.1191 - accuracy: 0.9603 - val_loss: 3.1255 - val_accuracy: 0.5312\n",
      "Epoch 5/10\n",
      "17/17 [==============================] - 54s 3s/step - loss: 0.1089 - accuracy: 0.9584 - val_loss: 4.9406 - val_accuracy: 0.5312\n",
      "Epoch 6/10\n",
      "17/17 [==============================] - 56s 3s/step - loss: 0.1141 - accuracy: 0.9622 - val_loss: 4.8367 - val_accuracy: 0.4375\n",
      "Epoch 7/10\n",
      "17/17 [==============================] - 55s 3s/step - loss: 0.0819 - accuracy: 0.9641 - val_loss: 6.5635 - val_accuracy: 0.5000\n",
      "Epoch 8/10\n",
      "17/17 [==============================] - 55s 3s/step - loss: 0.0671 - accuracy: 0.9603 - val_loss: 11.1131 - val_accuracy: 0.4688\n",
      "Epoch 9/10\n",
      "17/17 [==============================] - 51s 3s/step - loss: 0.0818 - accuracy: 0.9622 - val_loss: 4.2668 - val_accuracy: 0.0312\n",
      "Epoch 10/10\n",
      "17/17 [==============================] - 54s 3s/step - loss: 0.0890 - accuracy: 0.9679 - val_loss: 8.8791 - val_accuracy: 0.4688\n"
     ]
    },
    {
     "data": {
      "text/plain": [
       "<keras.src.callbacks.History at 0x13f0d5110>"
      ]
     },
     "execution_count": 44,
     "metadata": {},
     "output_type": "execute_result"
    }
   ],
   "source": [
    "epochs = 10\n",
    "\n",
    "model.fit(\n",
    "    train_generator,\n",
    "    steps_per_epoch=total_train // batch_size,\n",
    "    epochs=epochs,\n",
    "    validation_data=val_generator,\n",
    "    validation_steps=total_val // batch_size\n",
    ")\n"
   ]
  },
  {
   "cell_type": "code",
   "execution_count": 46,
   "id": "2806a0fe-993e-49cd-a28c-98fa1e93b374",
   "metadata": {},
   "outputs": [
    {
     "name": "stdout",
     "output_type": "stream",
     "text": [
      "2/2 [==============================] - 2s 386ms/step - loss: 8.6953 - accuracy: 0.4583\n",
      "Validation Accuracy: 45.83%\n"
     ]
    }
   ],
   "source": [
    "loss, accuracy = model.evaluate(val_generator)\n",
    "print(\"Validation Accuracy: {:.2f}%\".format(accuracy * 100))\n"
   ]
  },
  {
   "cell_type": "code",
   "execution_count": 52,
   "id": "31247283-af7c-4713-9f84-2d5ff4976846",
   "metadata": {},
   "outputs": [
    {
     "name": "stdout",
     "output_type": "stream",
     "text": [
      "1/1 [==============================] - 0s 129ms/step\n",
      "Prediction: No Lung Cancer Detected\n"
     ]
    }
   ],
   "source": [
    "image_path = '/Users/my/Desktop/mdp/data/lung_xray_dataset/train/healthy/Malignant case (549).jpg'\n",
    "img = tf.keras.preprocessing.image.load_img(image_path, target_size=(image_height, image_width))\n",
    "img_array = tf.keras.preprocessing.image.img_to_array(img)\n",
    "img_array = tf.expand_dims(img_array, 0) \n",
    "img_array /= 255.0\n",
    "\n",
    "prediction = model.predict(img_array)\n",
    "if prediction >= 0.5:\n",
    "    print(\"Prediction: Lung Cancer Detected\")\n",
    "else:\n",
    "    print(\"Prediction: No Lung Cancer Detected\")\n",
    "\n"
   ]
  },
  {
   "cell_type": "code",
   "execution_count": null,
   "id": "1b8ba8c5-78fb-42b5-9160-5238c47be49b",
   "metadata": {},
   "outputs": [],
   "source": []
  }
 ],
 "metadata": {
  "kernelspec": {
   "display_name": "Python 3 (ipykernel)",
   "language": "python",
   "name": "python3"
  },
  "language_info": {
   "codemirror_mode": {
    "name": "ipython",
    "version": 3
   },
   "file_extension": ".py",
   "mimetype": "text/x-python",
   "name": "python",
   "nbconvert_exporter": "python",
   "pygments_lexer": "ipython3",
   "version": "3.11.4"
  }
 },
 "nbformat": 4,
 "nbformat_minor": 5
}
